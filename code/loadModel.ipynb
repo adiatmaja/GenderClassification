{
 "cells": [
  {
   "cell_type": "markdown",
   "source": [
    "# Gender Classification"
   ],
   "metadata": {
    "collapsed": false
   },
   "id": "d0721bddd0cd2343"
  },
  {
   "cell_type": "markdown",
   "source": [
    "## Import Libraries"
   ],
   "metadata": {
    "collapsed": false
   },
   "id": "467686f84099eefe"
  },
  {
   "cell_type": "code",
   "outputs": [],
   "source": [
    "import tensorflow as tf\n",
    "import numpy as np\n",
    "import os\n",
    "import cv2\n",
    "from sklearn.model_selection import StratifiedKFold\n",
    "from sklearn.utils.class_weight import compute_class_weight\n",
    "from sklearn.metrics import classification_report, accuracy_score, roc_auc_score, confusion_matrix, roc_curve, auc\n",
    "from tensorflow.keras.models import Sequential\n",
    "from tensorflow.keras.layers import InputLayer, Conv2D, BatchNormalization, MaxPooling2D, GlobalMaxPooling2D, Flatten, Dense, Dropout\n",
    "from tensorflow.keras.regularizers import l2\n",
    "import matplotlib.pyplot as plt\n",
    "import seaborn as sns\n",
    "import h5py"
   ],
   "metadata": {
    "collapsed": false,
    "ExecuteTime": {
     "end_time": "2024-06-26T10:46:11.598641200Z",
     "start_time": "2024-06-26T10:46:08.531846Z"
    }
   },
   "id": "38b40153bfe8e21b",
   "execution_count": 1
  },
  {
   "cell_type": "markdown",
   "source": [
    "## Parameter Setup"
   ],
   "metadata": {
    "collapsed": false
   },
   "id": "3065a0271caf807"
  },
  {
   "cell_type": "code",
   "outputs": [],
   "source": [
    "BATCH_SIZE = 16\n",
    "EPOCHS = 100\n",
    "NUM_FOLDS = 5\n",
    "\n",
    "model = str(input('socofing / family : '))\n",
    "type = str(input('raw / default / high / low : '))\n",
    "\n",
    "if model == 'socofing':\n",
    "    if type == 'raw':\n",
    "        m_path = r'C:\\Skripsi\\GenderClassification\\datasets\\socofing\\raw\\M'\n",
    "        f_path = r'C:\\Skripsi\\GenderClassification\\datasets\\socofing\\raw\\F'\n",
    "        IMG_SIZE = (90, 97)\n",
    "        IMG_SHAPE = (90, 97, 1)\n",
    "        model_name = 'socofing-raw'\n",
    "        model_save_path = r'C:\\Skripsi\\GenderClassification\\res\\socofing\\raw'\n",
    "    elif type == 'default':\n",
    "        m_path = r'C:\\Skripsi\\GenderClassification\\datasets\\socofing\\gabor\\M'\n",
    "        f_path = r'C:\\Skripsi\\GenderClassification\\datasets\\socofing\\gabor\\F'\n",
    "        IMG_SIZE = (180, 194)\n",
    "        IMG_SHAPE = (180, 194, 1)\n",
    "        model_name = 'socofing-def'\n",
    "        model_save_path = r'C:\\Skripsi\\GenderClassification\\res\\socofing\\gabor'\n",
    "    elif type == 'high':\n",
    "        m_path = r'C:\\Skripsi\\GenderClassification\\datasets\\socofing\\gabor-high\\M'\n",
    "        f_path = r'C:\\Skripsi\\GenderClassification\\datasets\\socofing\\gabor-high\\F'\n",
    "        IMG_SIZE = (180, 194)\n",
    "        IMG_SHAPE = (180, 194, 1)\n",
    "        model_name = 'socofing-hi'\n",
    "        model_save_path = r'C:\\Skripsi\\GenderClassification\\res\\socofing\\gabor-high'\n",
    "    elif type == 'low':\n",
    "        m_path = r'C:\\Skripsi\\GenderClassification\\datasets\\socofing\\gabor-low\\M'\n",
    "        f_path = r'C:\\Skripsi\\GenderClassification\\datasets\\socofing\\gabor-low\\F'\n",
    "        IMG_SIZE = (180, 194)\n",
    "        IMG_SHAPE = (180, 194, 1)\n",
    "        model_name = 'socofing-lo'\n",
    "        model_save_path = r'C:\\Skripsi\\GenderClassification\\res\\socofing\\gabor-low'\n",
    "elif model == 'family':\n",
    "    if type == 'raw':\n",
    "        m_path = r'C:\\Skripsi\\GenderClassification\\datasets\\family\\raw\\M'\n",
    "        f_path = r'C:\\Skripsi\\GenderClassification\\datasets\\family\\raw\\F'\n",
    "        IMG_SIZE = (512, 512)\n",
    "        IMG_SHAPE = (512, 512, 1)\n",
    "        model_name = 'family-raw'\n",
    "        model_save_path = r'C:\\Skripsi\\GenderClassification\\res\\family\\raw'\n",
    "    elif type == 'default':\n",
    "        m_path = r'C:\\Skripsi\\GenderClassification\\datasets\\family\\gabor\\M'\n",
    "        f_path = r'C:\\Skripsi\\GenderClassification\\datasets\\family\\gabor\\F'\n",
    "        IMG_SIZE = (256, 256)\n",
    "        IMG_SHAPE = (256, 256, 1)\n",
    "        model_name = 'family-def'\n",
    "        model_save_path = r'C:\\Skripsi\\GenderClassification\\res\\family\\gabor'\n",
    "    elif type == 'high':\n",
    "        m_path = r'C:\\Skripsi\\GenderClassification\\datasets\\family\\gabor-high\\M'\n",
    "        f_path = r'C:\\Skripsi\\GenderClassification\\datasets\\family\\gabor-high\\F'\n",
    "        IMG_SIZE = (256, 256)\n",
    "        IMG_SHAPE = (256, 256, 1)\n",
    "        model_name = 'family-hi'\n",
    "        model_save_path = r'C:\\Skripsi\\GenderClassification\\res\\family\\gabor-high'\n",
    "    elif type == 'low':\n",
    "        m_path = r'C:\\Skripsi\\GenderClassification\\datasets\\family\\gabor-low\\M'\n",
    "        f_path = r'C:\\Skripsi\\GenderClassification\\datasets\\family\\gabor-low\\F'\n",
    "        IMG_SIZE = (256, 256)\n",
    "        IMG_SHAPE = (256, 256, 1)\n",
    "        model_name = 'family-lo'\n",
    "        model_save_path = r'C:\\Skripsi\\GenderClassification\\res\\family\\gabor-low'"
   ],
   "metadata": {
    "collapsed": false,
    "ExecuteTime": {
     "end_time": "2024-06-26T10:46:15.325979100Z",
     "start_time": "2024-06-26T10:46:11.604191600Z"
    }
   },
   "id": "3b5d534f4bf88976",
   "execution_count": 2
  },
  {
   "cell_type": "markdown",
   "source": [
    "## Data Loading"
   ],
   "metadata": {
    "collapsed": false
   },
   "id": "999172e55138e44f"
  },
  {
   "cell_type": "code",
   "outputs": [],
   "source": [
    "def load_images_from_folder(folder, label, img_size):\n",
    "    images = []\n",
    "    labels = []\n",
    "    for filename in os.listdir(folder):\n",
    "        img_path = os.path.join(folder, filename)\n",
    "        img = cv2.imread(img_path, cv2.IMREAD_GRAYSCALE)\n",
    "        if img is not None:\n",
    "            img = cv2.resize(img, img_size)\n",
    "            img = img.reshape(*IMG_SHAPE) / 255.0\n",
    "            images.append(img)\n",
    "            labels.append(label)\n",
    "    return images, labels"
   ],
   "metadata": {
    "collapsed": false,
    "ExecuteTime": {
     "end_time": "2024-06-26T10:46:15.344481800Z",
     "start_time": "2024-06-26T10:46:15.330392200Z"
    }
   },
   "id": "8dbec25ffbf61d09",
   "execution_count": 3
  },
  {
   "cell_type": "markdown",
   "source": [
    "## CNN Model"
   ],
   "metadata": {
    "collapsed": false
   },
   "id": "b40dd837695e180a"
  },
  {
   "cell_type": "code",
   "outputs": [],
   "source": [
    "def create_cnn_model(input_shape):\n",
    "    model = Sequential()\n",
    "    \n",
    "    model.add(InputLayer(input_shape=input_shape))\n",
    "    \n",
    "    model.add(Conv2D(16, (3, 3), activation='relu'))\n",
    "    model.add(BatchNormalization())\n",
    "    model.add(MaxPooling2D(pool_size=(2, 2)))\n",
    "    model.add(Dropout(0.2))\n",
    "    \n",
    "    model.add(Conv2D(32, (3, 3), activation='relu'))\n",
    "    model.add(BatchNormalization())\n",
    "    model.add(MaxPooling2D(pool_size=(2, 2)))\n",
    "    model.add(Dropout(0.2))\n",
    "    \n",
    "    model.add(Conv2D(64, (3, 3), activation='relu'))\n",
    "    model.add(BatchNormalization())\n",
    "    model.add(MaxPooling2D(pool_size=(2, 2)))\n",
    "    model.add(Dropout(0.2))\n",
    "    \n",
    "    model.add(Conv2D(128, (3, 3), activation='relu'))\n",
    "    model.add(BatchNormalization())\n",
    "    model.add(MaxPooling2D(pool_size=(2, 2)))\n",
    "    model.add(Dropout(0.2))\n",
    "    \n",
    "    model.add(GlobalMaxPooling2D())\n",
    "    \n",
    "    model.add(Dense(128, activation='relu'))\n",
    "    model.add(Dropout(0.5))\n",
    "    \n",
    "    model.add(Dense(1, activation='sigmoid'))\n",
    "    \n",
    "    model.summary()\n",
    "    return model"
   ],
   "metadata": {
    "collapsed": false,
    "ExecuteTime": {
     "end_time": "2024-06-26T10:46:15.367747900Z",
     "start_time": "2024-06-26T10:46:15.348864500Z"
    }
   },
   "id": "dc14bbcf796b79a",
   "execution_count": 4
  },
  {
   "cell_type": "markdown",
   "source": [
    "## Model Training"
   ],
   "metadata": {
    "collapsed": false
   },
   "id": "5adce68eb1eff7d6"
  },
  {
   "cell_type": "code",
   "outputs": [],
   "source": [
    "def train_model(X_train, y_train, X_val, y_val, input_shape, model_name, fold_no, model_save_path):\n",
    "    \n",
    "    model = create_cnn_model(input_shape)\n",
    "    model.compile(optimizer=tf.keras.optimizers.Adam(),\n",
    "                  loss='binary_crossentropy',\n",
    "                  metrics=['accuracy'])\n",
    "\n",
    "    reduce_lr = tf.keras.callbacks.ReduceLROnPlateau(monitor='val_loss',\n",
    "                                                     factor=0.1,\n",
    "                                                     patience=20,\n",
    "                                                     min_lr=1e-7)\n",
    "        \n",
    "    class_weights = compute_class_weight(class_weight='balanced', \n",
    "                                         classes=np.unique(y_train), \n",
    "                                         y=y_train)\n",
    "    \n",
    "    class_weights_dict = dict(enumerate(class_weights))\n",
    "\n",
    "    history = model.fit(X_train, y_train,\n",
    "                        batch_size=BATCH_SIZE,\n",
    "                        epochs=EPOCHS,\n",
    "                        validation_data=(X_val, y_val),\n",
    "                        callbacks=[reduce_lr],\n",
    "                        class_weight=class_weights_dict)\n",
    "\n",
    "    # Save the model\n",
    "    if not os.path.exists(os.path.join(model_save_path, f\"fold-{fold_no}\")):\n",
    "        os.makedirs(os.path.join(model_save_path, f\"fold-{fold_no}\"))\n",
    "\n",
    "    model_path = os.path.join(model_save_path, f\"fold-{fold_no}\", f\"{model_name}-fold{fold_no}.h5\")\n",
    "    model.save(model_path)\n",
    "\n",
    "    # Save the history to HDF5 file\n",
    "    history_file_path = os.path.join(model_save_path, f\"fold-{fold_no}\", f\"{model_name}_history_fold{fold_no}.h5\")\n",
    "    with h5py.File(history_file_path, 'w') as hf:\n",
    "        # Create a group to store the history data\n",
    "        history_group = hf.create_group('history')\n",
    "\n",
    "        # Store the history data as datasets within the group\n",
    "        for key, value in history.history.items():\n",
    "            history_group.create_dataset(key, data=value)\n",
    "\n",
    "    # Evaluation and saving plots\n",
    "    y_prob = model.predict(X_val)\n",
    "    y_pred = (y_prob > 0.5).astype(int)\n",
    "\n",
    "    plot_confusion_matrix(y_val, y_pred, target_names=['Male', 'Female'], fold_no=fold_no, model_save_path=model_save_path)\n",
    "    plot_roc_auc(y_val, y_prob, fold_no=fold_no, model_save_path=model_save_path)\n",
    "\n",
    "    return history, model"
   ],
   "metadata": {
    "collapsed": false,
    "ExecuteTime": {
     "end_time": "2024-06-26T10:46:15.378694200Z",
     "start_time": "2024-06-26T10:46:15.364499Z"
    }
   },
   "id": "fa7367947291ce49",
   "execution_count": 5
  },
  {
   "cell_type": "markdown",
   "source": [
    "## Classification Report"
   ],
   "metadata": {
    "collapsed": false
   },
   "id": "8fe4f8b64a0cf5fc"
  },
  {
   "cell_type": "code",
   "outputs": [],
   "source": [
    "def print_classification_report(y_true, y_pred, y_prob, target_names, fold_no):\n",
    "    report = classification_report(y_true, y_pred, target_names=target_names, output_dict=True)\n",
    "    if report is None:\n",
    "        print(f\"No classification report generated for Fold {fold_no}\")\n",
    "        return None\n",
    "\n",
    "    roc_auc = roc_auc_score(y_true, y_prob)\n",
    "    print(f\"Classification Report for Fold {fold_no}\")\n",
    "    print(f\"Precision (Weighted): {report['weighted avg']['precision']:.4f}\")\n",
    "    print(f\"Recall (Weighted): {report['weighted avg']['recall']:.4f}\")\n",
    "    print(f\"F1-Score (Weighted): {report['weighted avg']['f1-score']:.4f}\")\n",
    "    print(f\"ROC AUC: {roc_auc:.4f}\")\n",
    "\n",
    "    accuracy = accuracy_score(y_true, y_pred)\n",
    "    print(f\"Accuracy for Fold {fold_no}: {accuracy:.4f}\")\n",
    "\n",
    "    return report, roc_auc"
   ],
   "metadata": {
    "collapsed": false,
    "ExecuteTime": {
     "end_time": "2024-06-26T10:46:15.416820800Z",
     "start_time": "2024-06-26T10:46:15.374305400Z"
    }
   },
   "id": "8d16584c0dbad99e",
   "execution_count": 6
  },
  {
   "cell_type": "code",
   "outputs": [],
   "source": [
    "def plot_confusion_matrix(y_true, y_pred, target_names, fold_no, model_save_path):\n",
    "    cm = confusion_matrix(y_true, y_pred)\n",
    "    plt.figure(figsize=(6, 6))\n",
    "    sns.heatmap(cm, annot=True, fmt='d', cmap='Blues', \n",
    "                xticklabels=target_names, yticklabels=target_names)\n",
    "    plt.title(f'Confusion Matrix - Fold {fold_no}')\n",
    "    plt.xlabel('Predicted Label')\n",
    "    plt.ylabel('True Label')\n",
    "    plt.savefig(os.path.join(model_save_path, f\"fold-{fold_no}\", f\"confusion_matrix_fold{fold_no}.png\"))\n",
    "    plt.close()"
   ],
   "metadata": {
    "collapsed": false,
    "ExecuteTime": {
     "end_time": "2024-06-26T10:46:15.418823500Z",
     "start_time": "2024-06-26T10:46:15.391918700Z"
    }
   },
   "id": "a0ffac0ab04e885c",
   "execution_count": 7
  },
  {
   "cell_type": "code",
   "outputs": [],
   "source": [
    "def plot_roc_auc(y_true, y_prob, fold_no, model_save_path):\n",
    "    fpr, tpr, _ = roc_curve(y_true, y_prob)\n",
    "    roc_auc = auc(fpr, tpr)\n",
    "    plt.figure()\n",
    "    plt.plot(fpr, tpr, color='darkorange', lw=2, label=f'ROC curve (area = {roc_auc:.2f})')\n",
    "    plt.plot([0, 1], [0, 1], color='navy', lw=2, linestyle='--')\n",
    "    plt.xlim([0.0, 1.0])\n",
    "    plt.ylim([0.0, 1.05])\n",
    "    plt.xlabel('False Positive Rate')\n",
    "    plt.ylabel('True Positive Rate')\n",
    "    plt.title(f'ROC Curve - Fold {fold_no}')\n",
    "    plt.legend(loc=\"lower right\")\n",
    "    plt.savefig(os.path.join(model_save_path, f\"fold-{fold_no}\", f\"roc_curve_fold{fold_no}.png\"))\n",
    "    plt.close()"
   ],
   "metadata": {
    "collapsed": false,
    "ExecuteTime": {
     "end_time": "2024-06-26T10:46:15.419754700Z",
     "start_time": "2024-06-26T10:46:15.407100Z"
    }
   },
   "id": "8293f19563b8cf03",
   "execution_count": 8
  },
  {
   "cell_type": "markdown",
   "source": [
    "## Plotting"
   ],
   "metadata": {
    "collapsed": false
   },
   "id": "dabc5d6e07327a10"
  },
  {
   "cell_type": "code",
   "outputs": [],
   "source": [
    "def plot_history(histories, model_name):\n",
    "    plt.figure(figsize=(12, 5))\n",
    "    \n",
    "    # Plot training & validation accuracy values\n",
    "    plt.subplot(1, 2, 1)\n",
    "    for i, history in enumerate(histories, 1):\n",
    "        plt.plot(history.history['accuracy'], label=f'Training Accuracy Fold {i}', linestyle='--')\n",
    "        plt.plot(history.history['val_accuracy'], label=f'Validation Accuracy Fold {i}', linewidth=2)\n",
    "    plt.title('Training and Validation Accuracy')\n",
    "    plt.xlabel('Epoch')\n",
    "    plt.ylabel('Accuracy')\n",
    "    plt.legend()\n",
    "    \n",
    "    # Plot training & validation loss values\n",
    "    plt.subplot(1, 2, 2)\n",
    "    for i, history in enumerate(histories, 1):\n",
    "        plt.plot(history.history['loss'], label=f'Training Loss Fold {i}', linestyle='--')\n",
    "        plt.plot(history.history['val_loss'], label=f'Validation Loss Fold {i}', linewidth=2)\n",
    "    plt.title('Training and Validation Loss')\n",
    "    plt.xlabel('Epoch')\n",
    "    plt.ylabel('Loss')\n",
    "    plt.legend()\n",
    "\n",
    "    plt.suptitle(model_name)\n",
    "    plt.tight_layout()\n",
    "    plt.show()"
   ],
   "metadata": {
    "collapsed": false,
    "ExecuteTime": {
     "end_time": "2024-06-26T10:46:15.442782500Z",
     "start_time": "2024-06-26T10:46:15.424230500Z"
    }
   },
   "id": "2d001e3256c5efd0",
   "execution_count": 9
  },
  {
   "cell_type": "markdown",
   "source": [
    "## Main Function"
   ],
   "metadata": {
    "collapsed": false
   },
   "id": "acc3ecd40a77abff"
  },
  {
   "cell_type": "code",
   "outputs": [],
   "source": [
    "def main(start_fold=3):\n",
    "    # Load your data as before\n",
    "    male_images, male_labels = load_images_from_folder(m_path, 0, IMG_SIZE)\n",
    "    female_images, female_labels = load_images_from_folder(f_path, 1, IMG_SIZE)\n",
    "\n",
    "    X = np.array(male_images + female_images)\n",
    "    y = np.array(male_labels + female_labels)\n",
    "\n",
    "    kfold = StratifiedKFold(n_splits=NUM_FOLDS, shuffle=True, random_state=42)\n",
    "    \n",
    "    histories = []\n",
    "    weighted_precisions = []\n",
    "    weighted_recalls = []\n",
    "    weighted_f1s = []\n",
    "    roc_aucs = []\n",
    "    reports = []\n",
    "\n",
    "    fold_no = 1\n",
    "    for train, test in kfold.split(X, y):\n",
    "        if fold_no < start_fold:\n",
    "            fold_no += 1\n",
    "            continue\n",
    "        \n",
    "        X_train, X_val = X[train], X[test]\n",
    "        y_train, y_val = y[train], y[test]\n",
    "\n",
    "        model = tf.keras.models.load_model(fr'C:\\Skripsi\\GenderClassification\\res\\family\\raw\\fold-{fold_no}\\family-raw-fold{fold_no}.h5')\n",
    "\n",
    "        y_prob = model.predict(X_val)\n",
    "        y_pred = (y_prob > 0.5).astype(int)\n",
    "\n",
    "        report, roc_auc = print_classification_report(y_val, y_pred, y_prob, target_names=['Male', 'Female'], fold_no=fold_no)\n",
    "        reports.append(report)\n",
    "\n",
    "        if report is not None:\n",
    "            weighted_precision = report['weighted avg']['precision']\n",
    "            weighted_recall = report['weighted avg']['recall']\n",
    "            weighted_f1 = report['weighted avg']['f1-score']\n",
    "\n",
    "            weighted_precisions.append(weighted_precision)\n",
    "            weighted_recalls.append(weighted_recall)\n",
    "            weighted_f1s.append(weighted_f1)\n",
    "            roc_aucs.append(roc_auc)\n",
    "        \n",
    "        fold_no += 1\n",
    "\n",
    "    plot_history(histories, model_name)\n",
    "\n",
    "    mean_weighted_precision = np.mean(weighted_precisions)\n",
    "    mean_weighted_recall = np.mean(weighted_recalls)\n",
    "    mean_weighted_f1 = np.mean(weighted_f1s)\n",
    "    mean_roc_auc = np.mean(roc_aucs)\n",
    "\n",
    "    print(f\"Mean Weighted Precision: {mean_weighted_precision:.4f}\")\n",
    "    print(f\"Mean Weighted Recall: {mean_weighted_recall:.4f}\")\n",
    "    print(f\"Mean Weighted F1-Score: {mean_weighted_f1:.4f}\")\n",
    "    print(f\"Mean ROC AUC: {mean_roc_auc:.4f}\")\n",
    "\n",
    "    # Save classification report to a text file\n",
    "    report_file_path = os.path.join(model_save_path, f\"{model_name}_classification_report.txt\")\n",
    "    with open(report_file_path, 'w') as file:\n",
    "        for fold_no, report in enumerate(reports, start_fold):\n",
    "            file.write(f\"Classification Report for Fold {fold_no}:\\n\")\n",
    "            if report is not None:\n",
    "                file.write(f\"Precision (Weighted): {report['weighted avg']['precision']:.4f}\\n\")\n",
    "                file.write(f\"Recall (Weighted): {report['weighted avg']['recall']:.4f}\\n\")\n",
    "                file.write(f\"F1-Score (Weighted): {report['weighted avg']['f1-score']:.4f}\\n\")\n",
    "                file.write(f\"ROC AUC: {roc_aucs[fold_no-start_fold]:.4f}\\n\")\n",
    "            else:\n",
    "                file.write(\"No classification report generated.\\n\")\n",
    "            file.write(\"\\n\")\n",
    "        file.write(f\"Mean Weighted Precision: {mean_weighted_precision:.4f}\\n\")\n",
    "        file.write(f\"Mean Weighted Recall: {mean_weighted_recall:.4f}\\n\")\n",
    "        file.write(f\"Mean Weighted F1-Score: {mean_weighted_f1:.4f}\\n\")\n",
    "        file.write(f\"Mean ROC AUC: {mean_roc_auc:.4f}\\n\")"
   ],
   "metadata": {
    "collapsed": false,
    "ExecuteTime": {
     "end_time": "2024-06-26T10:47:26.110544100Z",
     "start_time": "2024-06-26T10:47:26.088613500Z"
    }
   },
   "id": "20eaf776078db95c",
   "execution_count": 12
  },
  {
   "cell_type": "code",
   "outputs": [
    {
     "name": "stdout",
     "output_type": "stream",
     "text": [
      "7/7 [==============================] - 1s 90ms/step\n",
      "Classification Report for Fold 1\n",
      "Precision (Weighted): 0.5606\n",
      "Recall (Weighted): 0.5350\n",
      "F1-Score (Weighted): 0.4801\n",
      "ROC AUC: 0.6085\n",
      "Accuracy for Fold 1: 0.5350\n",
      "7/7 [==============================] - 1s 72ms/step\n",
      "Classification Report for Fold 2\n",
      "Precision (Weighted): 0.6894\n",
      "Recall (Weighted): 0.5800\n",
      "F1-Score (Weighted): 0.5091\n",
      "ROC AUC: 0.6140\n",
      "Accuracy for Fold 2: 0.5800\n",
      "7/7 [==============================] - 1s 54ms/step\n",
      "Classification Report for Fold 3\n",
      "Precision (Weighted): 0.5955\n",
      "Recall (Weighted): 0.5900\n",
      "F1-Score (Weighted): 0.5840\n",
      "ROC AUC: 0.6497\n",
      "Accuracy for Fold 3: 0.5900\n",
      "7/7 [==============================] - 0s 50ms/step\n",
      "Classification Report for Fold 4\n",
      "Precision (Weighted): 0.6120\n",
      "Recall (Weighted): 0.5950\n",
      "F1-Score (Weighted): 0.5790\n",
      "ROC AUC: 0.7015\n",
      "Accuracy for Fold 4: 0.5950\n",
      "7/7 [==============================] - 0s 49ms/step\n",
      "Classification Report for Fold 5\n",
      "Precision (Weighted): 0.6693\n",
      "Recall (Weighted): 0.6350\n",
      "F1-Score (Weighted): 0.6155\n",
      "ROC AUC: 0.6975\n",
      "Accuracy for Fold 5: 0.6350\n"
     ]
    },
    {
     "name": "stderr",
     "output_type": "stream",
     "text": [
      "No artists with labels found to put in legend.  Note that artists whose label start with an underscore are ignored when legend() is called with no argument.\n",
      "No artists with labels found to put in legend.  Note that artists whose label start with an underscore are ignored when legend() is called with no argument.\n"
     ]
    },
    {
     "data": {
      "text/plain": "<Figure size 1200x500 with 2 Axes>",
      "image/png": "[encoded data removed]"
     },
     "metadata": {},
     "output_type": "display_data"
    },
    {
     "name": "stdout",
     "output_type": "stream",
     "text": [
      "Mean Weighted Precision: 0.6254\n",
      "Mean Weighted Recall: 0.5870\n",
      "Mean Weighted F1-Score: 0.5535\n",
      "Mean ROC AUC: 0.6542\n"
     ]
    }
   ],
   "source": [
    "if __name__ == '__main__':\n",
    "    main(start_fold=1)"
   ],
   "metadata": {
    "collapsed": false,
    "ExecuteTime": {
     "end_time": "2024-06-26T10:47:50.208260700Z",
     "start_time": "2024-06-26T10:47:26.694342500Z"
    }
   },
   "id": "4a526e0d1cb2d300",
   "execution_count": 13
  },
  {
   "cell_type": "code",
   "outputs": [],
   "source": [],
   "metadata": {
    "collapsed": false,
    "ExecuteTime": {
     "start_time": "2024-06-26T10:46:43.403576500Z"
    }
   },
   "id": "6f92f4e4c658062c",
   "execution_count": null
  }
 ],
 "metadata": {
  "kernelspec": {
   "display_name": "Python 3",
   "language": "python",
   "name": "python3"
  },
  "language_info": {
   "codemirror_mode": {
    "name": "ipython",
    "version": 2
   },
   "file_extension": ".py",
   "mimetype": "text/x-python",
   "name": "python",
   "nbconvert_exporter": "python",
   "pygments_lexer": "ipython2",
   "version": "2.7.6"
  }
 },
 "nbformat": 4,
 "nbformat_minor": 5
}
