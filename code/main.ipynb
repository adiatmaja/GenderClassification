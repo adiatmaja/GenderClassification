{
 "cells": [
  {
   "cell_type": "markdown",
   "source": [
    "# "
   ],
   "metadata": {
    "collapsed": false
   },
   "id": "75e0c07b18e5f5f9"
  },
  {
   "cell_type": "markdown",
   "source": [
    "## Import Libraries"
   ],
   "metadata": {
    "collapsed": false
   },
   "id": "5880f87bc9719971"
  },
  {
   "cell_type": "code",
   "outputs": [],
   "source": [
    "import tensorflow as tf\n",
    "import numpy as np\n",
    "import os\n",
    "import cv2\n",
    "from sklearn.model_selection import train_test_split\n",
    "from sklearn.metrics import confusion_matrix, classification_report\n",
    "from tensorflow.keras.models import Sequential, load_model\n",
    "from tensorflow.keras.layers import InputLayer, Conv2D, BatchNormalization, MaxPooling2D, GlobalMaxPooling2D, Dense, Dropout\n",
    "import matplotlib.pyplot as plt\n",
    "import h5py"
   ],
   "metadata": {
    "collapsed": false
   },
   "id": "9541b7789650e30f"
  },
  {
   "cell_type": "markdown",
   "source": [
    "## Parameter Setup"
   ],
   "metadata": {
    "collapsed": false
   },
   "id": "7b296d659b1532cd"
  },
  {
   "cell_type": "code",
   "outputs": [],
   "source": [
    "BATCH_SIZE = 32\n",
    "EPOCHS = 200\n",
    "\n",
    "model = str(input('socofing / family : '))\n"
   ],
   "metadata": {
    "collapsed": false
   },
   "id": "f22eec8edd091f6b"
  },
  {
   "cell_type": "markdown",
   "source": [
    "## Function for CNN Model"
   ],
   "metadata": {
    "collapsed": false
   },
   "id": "2559d24454eef9f9"
  },
  {
   "cell_type": "code",
   "outputs": [],
   "source": [
    "# Function to create CNN model\n",
    "def create_cnn_model(input_shape):\n",
    "    model = Sequential()\n",
    "    \n",
    "    model.add(InputLayer(input_shape=input_shape))\n",
    "    \n",
    "    model.add(Conv2D(16, (3, 3), activation='relu'))\n",
    "    model.add(BatchNormalization())\n",
    "    model.add(MaxPooling2D(pool_size=(2, 2)))\n",
    "    model.add(Dropout(0.15))\n",
    "    \n",
    "    model.add(Conv2D(32, (3, 3), activation='relu'))\n",
    "    model.add(BatchNormalization())\n",
    "    model.add(MaxPooling2D(pool_size=(2, 2)))\n",
    "    model.add(Dropout(0.15))\n",
    "    \n",
    "    model.add(Conv2D(64, (3, 3), activation='relu'))\n",
    "    model.add(BatchNormalization())\n",
    "    model.add(MaxPooling2D(pool_size=(2, 2)))\n",
    "    model.add(Dropout(0.15))\n",
    "    \n",
    "    model.add(Conv2D(128, (3, 3), activation='relu'))\n",
    "    model.add(BatchNormalization())\n",
    "    model.add(MaxPooling2D(pool_size=(2, 2)))\n",
    "    model.add(Dropout(0.15))\n",
    "    \n",
    "    model.add(GlobalMaxPooling2D())\n",
    "    \n",
    "    model.add(Dense(128, activation='relu'))\n",
    "    model.add(Dropout(0.3))\n",
    "    \n",
    "    model.add(Dense(1, activation='sigmoid'))\n",
    "    \n",
    "    model.summary()\n",
    "    return model"
   ],
   "metadata": {
    "collapsed": false
   },
   "id": "1a16dce7e3134c39"
  },
  {
   "cell_type": "markdown",
   "source": [
    "## Function for Model Training"
   ],
   "metadata": {
    "collapsed": false
   },
   "id": "96f2a80505af7d9a"
  },
  {
   "cell_type": "code",
   "outputs": [],
   "source": [
    "def train_model(X_train, y_train, X_val, y_val, input_shape, model_name, model):\n",
    "    # Count male and female data in the training data\n",
    "    male_count = np.sum(np.argmax(y_train, axis=1) == gender_dict['M'])\n",
    "    female_count = np.sum(np.argmax(y_train, axis=1) == gender_dict['F'])\n",
    "    print(\"Number of male data:\", male_count)\n",
    "    print(\"Number of female data:\", female_count)\n",
    "\n",
    "    # Model creation and compilation\n",
    "    model = create_cnn_model(input_shape)\n",
    "    model.compile(optimizer=tf.keras.optimizers.Adam(),\n",
    "                  loss='categorical_crossentropy',\n",
    "                  metrics=['accuracy'])\n",
    "\n",
    "    reduce_lr = tf.keras.callbacks.ReduceLROnPlateau(monitor='val_loss',\n",
    "                                                     factor=0.1,\n",
    "                                                     patience=20,\n",
    "                                                     min_lr=1e-7)\n",
    "\n",
    "    # Training the model without data augmentation\n",
    "    history = model.fit(X_train, y_train,\n",
    "                        batch_size=BATCH_SIZE,\n",
    "                        epochs=EPOCHS,\n",
    "                        validation_data=(X_val, y_val),\n",
    "                        callbacks=[reduce_lr])\n",
    "\n",
    "    # Save the model\n",
    "    model.save(r'C:\\Skripsi\\FingeprintClassification\\model_res\\{}-fix.h5'.format(model_name))\n",
    "\n",
    "    # Save the history to HDF5 file\n",
    "    history_file_path = r'C:\\Skripsi\\FingeprintClassification\\model_res\\{}_history-fix.h5'.format(model_name)\n",
    "    with h5py.File(history_file_path, 'w') as hf:\n",
    "        # Create a group to store the history data\n",
    "        history_group = hf.create_group('history')\n",
    "\n",
    "        # Store the history data as datasets within the group\n",
    "        for key, value in history.history.items():\n",
    "            history_group.create_dataset(key, data=value)\n",
    "\n",
    "    return history, model"
   ],
   "metadata": {
    "collapsed": false
   },
   "id": "9bc2cb09160608b1"
  },
  {
   "cell_type": "markdown",
   "source": [
    "## Function for Classification Report"
   ],
   "metadata": {
    "collapsed": false
   },
   "id": "a2a985b8271b6bc4"
  },
  {
   "cell_type": "code",
   "outputs": [],
   "source": [
    "def print_classification_report(y_true, y_pred, target_names, title):\n",
    "    report = classification_report(y_true, y_pred, target_names=target_names)\n",
    "    print(title)\n",
    "    print(report)"
   ],
   "metadata": {
    "collapsed": false
   },
   "id": "eb3a3277111db842"
  },
  {
   "cell_type": "code",
   "outputs": [],
   "source": [],
   "metadata": {
    "collapsed": false
   },
   "id": "c7e15894fbbdb98b"
  },
  {
   "cell_type": "code",
   "outputs": [],
   "source": [],
   "metadata": {
    "collapsed": false
   },
   "id": "8784e8679e55d0f7"
  }
 ],
 "metadata": {
  "kernelspec": {
   "display_name": "Python 3",
   "language": "python",
   "name": "python3"
  },
  "language_info": {
   "codemirror_mode": {
    "name": "ipython",
    "version": 2
   },
   "file_extension": ".py",
   "mimetype": "text/x-python",
   "name": "python",
   "nbconvert_exporter": "python",
   "pygments_lexer": "ipython2",
   "version": "2.7.6"
  }
 },
 "nbformat": 4,
 "nbformat_minor": 5
}
